{
 "cells": [
  {
   "cell_type": "code",
   "execution_count": 4,
   "metadata": {},
   "outputs": [],
   "source": [
    "# Dependencies and Setup \n",
    "import pandas as pd\n",
    "import os\n",
    "import sys\n",
    "\n",
    "# define current date string to append to the names of output files...\n",
    "import datetime  \n",
    "def _getToday(): return datetime.date.today().strftime(\"%Y%m%d\")   "
   ]
  },
  {
   "cell_type": "code",
   "execution_count": 5,
   "metadata": {},
   "outputs": [
    {
     "data": {
      "text/plain": [
       "'.\\\\resources\\\\vintage_mustangs.csv'"
      ]
     },
     "execution_count": 5,
     "metadata": {},
     "output_type": "execute_result"
    }
   ],
   "source": [
    "# Define path to csv file \n",
    "mustangs_file=os.path.join('.','resources','vintage_mustangs.csv') \n",
    "mustangs_file"
   ]
  },
  {
   "cell_type": "code",
   "execution_count": 6,
   "metadata": {},
   "outputs": [
    {
     "data": {
      "text/html": [
       "<div>\n",
       "<style scoped>\n",
       "    .dataframe tbody tr th:only-of-type {\n",
       "        vertical-align: middle;\n",
       "    }\n",
       "\n",
       "    .dataframe tbody tr th {\n",
       "        vertical-align: top;\n",
       "    }\n",
       "\n",
       "    .dataframe thead th {\n",
       "        text-align: right;\n",
       "    }\n",
       "</style>\n",
       "<table border=\"1\" class=\"dataframe\">\n",
       "  <thead>\n",
       "    <tr style=\"text-align: right;\">\n",
       "      <th></th>\n",
       "      <th>ID</th>\n",
       "      <th>Model Year</th>\n",
       "      <th>US Sales</th>\n",
       "    </tr>\n",
       "  </thead>\n",
       "  <tbody>\n",
       "    <tr>\n",
       "      <th>0</th>\n",
       "      <td>0</td>\n",
       "      <td>1964</td>\n",
       "      <td>121,538</td>\n",
       "    </tr>\n",
       "    <tr>\n",
       "      <th>1</th>\n",
       "      <td>1</td>\n",
       "      <td>1965</td>\n",
       "      <td>559,451</td>\n",
       "    </tr>\n",
       "    <tr>\n",
       "      <th>2</th>\n",
       "      <td>2</td>\n",
       "      <td>1966</td>\n",
       "      <td>607,568</td>\n",
       "    </tr>\n",
       "    <tr>\n",
       "      <th>3</th>\n",
       "      <td>3</td>\n",
       "      <td>1967</td>\n",
       "      <td>472,121</td>\n",
       "    </tr>\n",
       "    <tr>\n",
       "      <th>4</th>\n",
       "      <td>4</td>\n",
       "      <td>1968</td>\n",
       "      <td>317,404</td>\n",
       "    </tr>\n",
       "  </tbody>\n",
       "</table>\n",
       "</div>"
      ],
      "text/plain": [
       "   ID  Model Year US Sales\n",
       "0   0        1964  121,538\n",
       "1   1        1965  559,451\n",
       "2   2        1966  607,568\n",
       "3   3        1967  472,121\n",
       "4   4        1968  317,404"
      ]
     },
     "execution_count": 6,
     "metadata": {},
     "output_type": "execute_result"
    }
   ],
   "source": [
    "# Read in csv file and convert to dataframe \n",
    "# Read file and define it as 'file_cities'\n",
    "file_mustangs=pd.read_csv(mustangs_file) \n",
    "\n",
    "# Create dataframe\n",
    "mustangs_df=pd.DataFrame(file_mustangs)\n",
    "\n",
    "# Columns to display in dataframe.\n",
    "mustangs_df=mustangs_df[[\"ID\",\"Model Year\", \"US Sales\"]] \n",
    "\n",
    "# Display dataframe output\n",
    "mustangs_df.head()"
   ]
  },
  {
   "cell_type": "code",
   "execution_count": 12,
   "metadata": {},
   "outputs": [],
   "source": [
    "# output data fram to html format copy to data backup versions folder\n",
    "mustangs_df.to_html('./versions/data_source_vintage_mustangs_html_backup/vintage_mustangs.html', index=False)"
   ]
  },
  {
   "cell_type": "code",
   "execution_count": 13,
   "metadata": {},
   "outputs": [],
   "source": [
    "# output data fram to html format copy to resources folder for backup versioning\n",
    "mustangs_df.to_html('./resources/vintange_mustangs.html', index=False)"
   ]
  },
  {
   "cell_type": "code",
   "execution_count": 14,
   "metadata": {},
   "outputs": [],
   "source": [
    "# output data fram to html format - production use data\n",
    "mustangs_df.to_html('./vintage_mustangs.html', index=False)"
   ]
  },
  {
   "cell_type": "code",
   "execution_count": null,
   "metadata": {},
   "outputs": [],
   "source": [
    "## EOF ##"
   ]
  }
 ],
 "metadata": {
  "kernelspec": {
   "display_name": "Python 3",
   "language": "python",
   "name": "python3"
  },
  "language_info": {
   "codemirror_mode": {
    "name": "ipython",
    "version": 3
   },
   "file_extension": ".py",
   "mimetype": "text/x-python",
   "name": "python",
   "nbconvert_exporter": "python",
   "pygments_lexer": "ipython3",
   "version": "3.6.10"
  }
 },
 "nbformat": 4,
 "nbformat_minor": 4
}
